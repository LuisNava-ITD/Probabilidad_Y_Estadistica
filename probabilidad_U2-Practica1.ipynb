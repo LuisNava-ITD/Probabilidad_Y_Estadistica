{
  "nbformat": 4,
  "nbformat_minor": 0,
  "metadata": {
    "colab": {
      "provenance": [],
      "authorship_tag": "ABX9TyPBGoXXr9JheBX/Ul+BHtrG",
      "include_colab_link": true
    },
    "kernelspec": {
      "name": "python3",
      "display_name": "Python 3"
    },
    "language_info": {
      "name": "python"
    }
  },
  "cells": [
    {
      "cell_type": "markdown",
      "metadata": {
        "id": "view-in-github",
        "colab_type": "text"
      },
      "source": [
        "<a href=\"https://colab.research.google.com/github/LuisNava-ITD/Probabilidad_Y_Estadistica/blob/main/probabilidad_U2-Practica1.ipynb\" target=\"_parent\"><img src=\"https://colab.research.google.com/assets/colab-badge.svg\" alt=\"Open In Colab\"/></a>"
      ]
    },
    {
      "cell_type": "code",
      "source": [
        "import math as mt\n",
        "from itertools import combinations\n",
        "from itertools import combinations_with_replacement\n",
        "import numpy as np\n",
        "\n",
        "\n",
        "nombres = [\"Oscar\", \"Paco\", \"Paty\", \"Laura\", \"Ruben\", \"Luis\", \"Lucy\", \"Alberto\",\n",
        "          \"Juan\", \"Danny\"]\n",
        "n = len(nombres)\n",
        "r = 2\n",
        "Cn = mt.factorial(n)/(mt.factorial(n-r)*mt.factorial(r))\n",
        "print(\"Existen\", Cn, \" posibles combinaciones sin repeticion del total de\",\n",
        "           n, \"nombres\", \"en grupos de \", r, \"en\", r)\n",
        "\n",
        "print(\"aqui las combinaciones \")\n",
        "combinaciones_nombres = list(combinations(nombres, r))\n",
        "print(combinaciones_nombres)\n",
        "\n",
        "\n",
        "caracteres = [\"A\", \"B\", \"C\", \"D\", \"E\", \"F\", \"0\", \"1\", \"2\", \"3\", \"4\", \"5\" ]\n",
        "n = len(caracteres)\n",
        "r = 10\n",
        "\n",
        "Cn = mt.factorial(n)/(mt.factorial(r) * mt.factorial(n-r))\n",
        "\n",
        "print(\"Existen\", Cn, \" posibles combinaciones sin repeticion del total de\", n,\n",
        "      \"caracteres\", \"en grupos de \", r, \"en\", r)\n",
        "print(\"aqui las combinaciones \")\n",
        "combinaciones_caracteres = list(combinations(caracteres, r))\n",
        "print(combinaciones_caracteres)\n",
        "\n",
        "\n",
        "dado = [1, 2 , 3, 4, 5, 6]\n",
        "n = len(dado)\n",
        "r = 2\n",
        "\n",
        "CnR = mt.factorial(n+r-1)/(mt.factorial(r) * mt.factorial((n+r-1)-r))\n",
        "\n",
        "print(\"Existen\", CnR, \" posibles combinaciones sin repeticion del total de\", n,\n",
        "      \"caracteres\", \"en grupos de \", r, \"en\", r)\n",
        "print(\"Aqui las combinaciones con repeticion de dos dados\")\n",
        "\n",
        "elementos = [1, 2 , 3, 4, 5, 6]\n",
        "r = 2\n",
        "\n",
        "combinaciones_dados = list(combinations_with_replacement(dado, r))\n",
        "\n",
        "for combinacion in combinaciones_dados:\n",
        "    print(combinacion)\n",
        "\n"
      ],
      "metadata": {
        "colab": {
          "base_uri": "https://localhost:8080/"
        },
        "id": "VER3M_9vBD0Q",
        "outputId": "87769551-2a8e-4079-cc16-857720b1ee1a"
      },
      "execution_count": 2,
      "outputs": [
        {
          "output_type": "stream",
          "name": "stdout",
          "text": [
            "Existen 45.0  posibles combinaciones sin repeticion del total de 10 nombres en grupos de  2 en 2\n",
            "aqui las combinaciones \n",
            "[('Oscar', 'Paco'), ('Oscar', 'Paty'), ('Oscar', 'Laura'), ('Oscar', 'Ruben'), ('Oscar', 'Luis'), ('Oscar', 'Lucy'), ('Oscar', 'Alberto'), ('Oscar', 'Juan'), ('Oscar', 'Danny'), ('Paco', 'Paty'), ('Paco', 'Laura'), ('Paco', 'Ruben'), ('Paco', 'Luis'), ('Paco', 'Lucy'), ('Paco', 'Alberto'), ('Paco', 'Juan'), ('Paco', 'Danny'), ('Paty', 'Laura'), ('Paty', 'Ruben'), ('Paty', 'Luis'), ('Paty', 'Lucy'), ('Paty', 'Alberto'), ('Paty', 'Juan'), ('Paty', 'Danny'), ('Laura', 'Ruben'), ('Laura', 'Luis'), ('Laura', 'Lucy'), ('Laura', 'Alberto'), ('Laura', 'Juan'), ('Laura', 'Danny'), ('Ruben', 'Luis'), ('Ruben', 'Lucy'), ('Ruben', 'Alberto'), ('Ruben', 'Juan'), ('Ruben', 'Danny'), ('Luis', 'Lucy'), ('Luis', 'Alberto'), ('Luis', 'Juan'), ('Luis', 'Danny'), ('Lucy', 'Alberto'), ('Lucy', 'Juan'), ('Lucy', 'Danny'), ('Alberto', 'Juan'), ('Alberto', 'Danny'), ('Juan', 'Danny')]\n",
            "Existen 66.0  posibles combinaciones sin repeticion del total de 12 caracteres en grupos de  10 en 10\n",
            "aqui las combinaciones \n",
            "[('A', 'B', 'C', 'D', 'E', 'F', '0', '1', '2', '3'), ('A', 'B', 'C', 'D', 'E', 'F', '0', '1', '2', '4'), ('A', 'B', 'C', 'D', 'E', 'F', '0', '1', '2', '5'), ('A', 'B', 'C', 'D', 'E', 'F', '0', '1', '3', '4'), ('A', 'B', 'C', 'D', 'E', 'F', '0', '1', '3', '5'), ('A', 'B', 'C', 'D', 'E', 'F', '0', '1', '4', '5'), ('A', 'B', 'C', 'D', 'E', 'F', '0', '2', '3', '4'), ('A', 'B', 'C', 'D', 'E', 'F', '0', '2', '3', '5'), ('A', 'B', 'C', 'D', 'E', 'F', '0', '2', '4', '5'), ('A', 'B', 'C', 'D', 'E', 'F', '0', '3', '4', '5'), ('A', 'B', 'C', 'D', 'E', 'F', '1', '2', '3', '4'), ('A', 'B', 'C', 'D', 'E', 'F', '1', '2', '3', '5'), ('A', 'B', 'C', 'D', 'E', 'F', '1', '2', '4', '5'), ('A', 'B', 'C', 'D', 'E', 'F', '1', '3', '4', '5'), ('A', 'B', 'C', 'D', 'E', 'F', '2', '3', '4', '5'), ('A', 'B', 'C', 'D', 'E', '0', '1', '2', '3', '4'), ('A', 'B', 'C', 'D', 'E', '0', '1', '2', '3', '5'), ('A', 'B', 'C', 'D', 'E', '0', '1', '2', '4', '5'), ('A', 'B', 'C', 'D', 'E', '0', '1', '3', '4', '5'), ('A', 'B', 'C', 'D', 'E', '0', '2', '3', '4', '5'), ('A', 'B', 'C', 'D', 'E', '1', '2', '3', '4', '5'), ('A', 'B', 'C', 'D', 'F', '0', '1', '2', '3', '4'), ('A', 'B', 'C', 'D', 'F', '0', '1', '2', '3', '5'), ('A', 'B', 'C', 'D', 'F', '0', '1', '2', '4', '5'), ('A', 'B', 'C', 'D', 'F', '0', '1', '3', '4', '5'), ('A', 'B', 'C', 'D', 'F', '0', '2', '3', '4', '5'), ('A', 'B', 'C', 'D', 'F', '1', '2', '3', '4', '5'), ('A', 'B', 'C', 'D', '0', '1', '2', '3', '4', '5'), ('A', 'B', 'C', 'E', 'F', '0', '1', '2', '3', '4'), ('A', 'B', 'C', 'E', 'F', '0', '1', '2', '3', '5'), ('A', 'B', 'C', 'E', 'F', '0', '1', '2', '4', '5'), ('A', 'B', 'C', 'E', 'F', '0', '1', '3', '4', '5'), ('A', 'B', 'C', 'E', 'F', '0', '2', '3', '4', '5'), ('A', 'B', 'C', 'E', 'F', '1', '2', '3', '4', '5'), ('A', 'B', 'C', 'E', '0', '1', '2', '3', '4', '5'), ('A', 'B', 'C', 'F', '0', '1', '2', '3', '4', '5'), ('A', 'B', 'D', 'E', 'F', '0', '1', '2', '3', '4'), ('A', 'B', 'D', 'E', 'F', '0', '1', '2', '3', '5'), ('A', 'B', 'D', 'E', 'F', '0', '1', '2', '4', '5'), ('A', 'B', 'D', 'E', 'F', '0', '1', '3', '4', '5'), ('A', 'B', 'D', 'E', 'F', '0', '2', '3', '4', '5'), ('A', 'B', 'D', 'E', 'F', '1', '2', '3', '4', '5'), ('A', 'B', 'D', 'E', '0', '1', '2', '3', '4', '5'), ('A', 'B', 'D', 'F', '0', '1', '2', '3', '4', '5'), ('A', 'B', 'E', 'F', '0', '1', '2', '3', '4', '5'), ('A', 'C', 'D', 'E', 'F', '0', '1', '2', '3', '4'), ('A', 'C', 'D', 'E', 'F', '0', '1', '2', '3', '5'), ('A', 'C', 'D', 'E', 'F', '0', '1', '2', '4', '5'), ('A', 'C', 'D', 'E', 'F', '0', '1', '3', '4', '5'), ('A', 'C', 'D', 'E', 'F', '0', '2', '3', '4', '5'), ('A', 'C', 'D', 'E', 'F', '1', '2', '3', '4', '5'), ('A', 'C', 'D', 'E', '0', '1', '2', '3', '4', '5'), ('A', 'C', 'D', 'F', '0', '1', '2', '3', '4', '5'), ('A', 'C', 'E', 'F', '0', '1', '2', '3', '4', '5'), ('A', 'D', 'E', 'F', '0', '1', '2', '3', '4', '5'), ('B', 'C', 'D', 'E', 'F', '0', '1', '2', '3', '4'), ('B', 'C', 'D', 'E', 'F', '0', '1', '2', '3', '5'), ('B', 'C', 'D', 'E', 'F', '0', '1', '2', '4', '5'), ('B', 'C', 'D', 'E', 'F', '0', '1', '3', '4', '5'), ('B', 'C', 'D', 'E', 'F', '0', '2', '3', '4', '5'), ('B', 'C', 'D', 'E', 'F', '1', '2', '3', '4', '5'), ('B', 'C', 'D', 'E', '0', '1', '2', '3', '4', '5'), ('B', 'C', 'D', 'F', '0', '1', '2', '3', '4', '5'), ('B', 'C', 'E', 'F', '0', '1', '2', '3', '4', '5'), ('B', 'D', 'E', 'F', '0', '1', '2', '3', '4', '5'), ('C', 'D', 'E', 'F', '0', '1', '2', '3', '4', '5')]\n",
            "Existen 21.0  posibles combinaciones sin repeticion del total de 6 caracteres en grupos de  2 en 2\n",
            "Aqui las combinaciones con repeticion de dos dados\n",
            "(1, 1)\n",
            "(1, 2)\n",
            "(1, 3)\n",
            "(1, 4)\n",
            "(1, 5)\n",
            "(1, 6)\n",
            "(2, 2)\n",
            "(2, 3)\n",
            "(2, 4)\n",
            "(2, 5)\n",
            "(2, 6)\n",
            "(3, 3)\n",
            "(3, 4)\n",
            "(3, 5)\n",
            "(3, 6)\n",
            "(4, 4)\n",
            "(4, 5)\n",
            "(4, 6)\n",
            "(5, 5)\n",
            "(5, 6)\n",
            "(6, 6)\n"
          ]
        }
      ]
    }
  ]
}