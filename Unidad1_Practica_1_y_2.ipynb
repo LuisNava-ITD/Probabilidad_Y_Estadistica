{
  "nbformat": 4,
  "nbformat_minor": 0,
  "metadata": {
    "colab": {
      "provenance": [],
      "authorship_tag": "ABX9TyPXR52tpPs96dwZpu/oXB9T",
      "include_colab_link": true
    },
    "kernelspec": {
      "name": "python3",
      "display_name": "Python 3"
    },
    "language_info": {
      "name": "python"
    }
  },
  "cells": [
    {
      "cell_type": "markdown",
      "metadata": {
        "id": "view-in-github",
        "colab_type": "text"
      },
      "source": [
        "<a href=\"https://colab.research.google.com/github/LuisNava-ITD/Probabilidad_Y_Estadistica/blob/main/Unidad1_Practica_1_y_2.ipynb\" target=\"_parent\"><img src=\"https://colab.research.google.com/assets/colab-badge.svg\" alt=\"Open In Colab\"/></a>"
      ]
    },
    {
      "cell_type": "markdown",
      "source": [
        "#***Probabilidad y estadistica***\n",
        "\n",
        "##**ALUMNO:**\n",
        "###*Luis Eduardo Nava Estupiñan*\n",
        "##**DOCENTE:**\n",
        "###*Jose Gabriel Rodriguez Rivas*"
      ],
      "metadata": {
        "id": "zZXx8k0Ois10"
      }
    },
    {
      "cell_type": "code",
      "execution_count": null,
      "metadata": {
        "id": "NuDyU4OshG_H"
      },
      "outputs": [],
      "source": [
        "from statistics import *\n",
        "grupoa = [70, 70, 65, 90, 100, 95, 45, 80, 73, 20, 100, 96]\n",
        "print(grupoa)\n",
        "Promedio2 = mean(grupoa)\n",
        "print(Promedio2)\n",
        "mediana = median(grupoa)\n",
        "print(mediana)\n",
        "moda=mode(grupoa)\n",
        "print(moda)\n",
        "tiempos100mts=[15.10, 17.20, 14.69, 13.27, 22.15, 18.71, 19.25, 20.65,15.10, 17.20 ]\n",
        "print(tiempos100mts)\n",
        "print(\"El tiempo promedio de los corredosres es =>\", mean(tiempos100mts))\n",
        "print(\"La mediana de los tiempos es =>\", median(tiempos100mts))\n",
        "print(\"La moda de los tiempos es =>\", multimode(tiempos100mts))\n",
        "\n",
        "#HISTOGRAMA\n",
        "\n",
        "import random\n",
        "fabrica1 = []\n",
        "for i in range(100):\n",
        "  numero_aleatorio = round(random.uniform(50, 100),2)\n",
        "  fabrica1.append(numero_aleatorio)\n",
        "print(fabrica1)\n",
        "\n",
        "fabrica2 = []\n",
        "for i in range(100):\n",
        "  numero_aleatorio = round(random.uniform(50, 100),2)\n",
        "  fabrica2.append(numero_aleatorio)\n",
        "print(fabrica2)\n",
        "\n",
        "\n",
        "#Libreria para graficar valores\n",
        "import matplotlib.pyplot as plt\n",
        "\n",
        "plt.hist(fabrica1)\n",
        "plt.title(\"Produccion diaria de la fabrica 1\")\n",
        "plt.hist(fabrica2)\n",
        "plt.title(\"Produccion diaria de la fabrica 2\")\n",
        "\n",
        "\n",
        "\n",
        "\n",
        "media = mean(fabrica1)\n",
        "mediana = median(fabrica1)\n",
        "moda =  mode(fabrica1)\n",
        "\n",
        "print(\"Valores de la fabrica 1\")\n",
        "print(\"La media de la fabrica 1 es =>\", media)\n",
        "print(\"La mediana de la fabrica 1 es =>\", mediana)\n",
        "print(\"La moda de la fabrica 1 es =>\", moda)\n",
        "\n",
        "media2 = mean(fabrica2)\n",
        "mediana2 = median(fabrica2)\n",
        "moda2 =  mode(fabrica2)\n",
        "\n",
        "print(\"Valores de la fabrica 2\")\n",
        "print(\"La media de la fabrica 1 es =>\", media2)\n",
        "print(\"La mediana de la fabrica 1 es =>\", mediana2)\n",
        "print(\"La moda de la fabrica 1 es =>\", moda2)\n",
        "\n",
        "\n",
        "\n",
        "\n",
        "\n",
        "fig,(ax1, ax2) = plt.subplots(nrows =1, ncols=2, figsize=(10,5))\n",
        "ax1.hist(fabrica1)\n",
        "ax1.set_title(\"Produccion diaria de la fabrica 1\")\n",
        "ax2.hist(fabrica2)\n",
        "ax2.set_title(\"Produccion diaria de la fabrica 2\")\n",
        "\n",
        "plt.show()\n",
        "\n",
        "\n",
        "plt.hist(fabrica1, bins=10, alpha=0.2, color='b', edgecolor = \"black\")\n",
        "plt.axvline(media, color = 'b', linestyle ='dashed', linewidth = 2, label= 'Media')\n",
        "plt.axvline(mediana, color = 'g', linestyle ='dashed', linewidth = 2, label= 'Mediana')\n",
        "plt.axvline(moda, color = 'r', linestyle ='dashed', linewidth = 2, label= 'Moda')\n",
        "plt.xlabel('valor')\n",
        "plt.ylabel('Frecuencia')\n",
        "plt.title(\"Produccion diaria de la fabrica 1\")\n",
        "plt.legend()\n",
        "plt.show()\n",
        "\n",
        "plt.hist(fabrica2, bins=10, alpha=0.2, color='b', edgecolor = \"black\")\n",
        "plt.axvline(media2, color = 'b', linestyle ='dashed', linewidth = 2, label= 'Media')\n",
        "plt.axvline(mediana2, color = 'g', linestyle ='dashed', linewidth = 2, label= 'Mediana')\n",
        "plt.axvline(moda2, color = 'r', linestyle ='dashed', linewidth = 2, label= 'Moda')\n",
        "plt.xlabel('valor')\n",
        "plt.ylabel('Frecuencia')\n",
        "plt.title(\"Produccion diaria de la fabrica 2\")\n",
        "plt.legend()\n",
        "plt.show()"
      ]
    }
  ]
}