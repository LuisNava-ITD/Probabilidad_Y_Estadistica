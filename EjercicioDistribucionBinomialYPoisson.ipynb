{
  "nbformat": 4,
  "nbformat_minor": 0,
  "metadata": {
    "colab": {
      "provenance": [],
      "authorship_tag": "ABX9TyP4UtTaSq2RBNEOLS1VyY9B",
      "include_colab_link": true
    },
    "kernelspec": {
      "name": "python3",
      "display_name": "Python 3"
    },
    "language_info": {
      "name": "python"
    }
  },
  "cells": [
    {
      "cell_type": "markdown",
      "metadata": {
        "id": "view-in-github",
        "colab_type": "text"
      },
      "source": [
        "<a href=\"https://colab.research.google.com/github/LuisNava-ITD/Probabilidad_Y_Estadistica/blob/main/EjercicioDistribucionBinomialYPoisson.ipynb\" target=\"_parent\"><img src=\"https://colab.research.google.com/assets/colab-badge.svg\" alt=\"Open In Colab\"/></a>"
      ]
    },
    {
      "cell_type": "markdown",
      "source": [
        "#Probabilidad y estadística\n",
        "\n",
        "##Unidad 4. Distribución de probabilidad\n",
        "**Alumno:** Luis Eduardo Nava Estupiñan\n",
        "\n",
        "**Facilitador:** José Gabriel Rodríguez Rivas"
      ],
      "metadata": {
        "id": "XgxCaaGqD1p7"
      }
    },
    {
      "cell_type": "markdown",
      "source": [
        "#**Practica 3**: Problemas de Distribución binomial y de Poisson.\n"
      ],
      "metadata": {
        "id": "lXrojF1JEMOU"
      }
    },
    {
      "cell_type": "markdown",
      "source": [
        "## **Problema 1**\n",
        "**Antes de resolver el problema especifique si la solución es de tipo Binomial o Poisson y explique por qué.**\n",
        "\n",
        "Realizar un programa en Python que resuelva el siguiente problema:\n",
        "\n",
        "\n",
        "*   El número x de personas ingresadas a una unidad de cuidados intensivos en un hospital particular, en un día, tiene una distribución de probabilidad de Poisson con media igual a cinco personas por día.\n",
        "*   **a).**¿Cuál es la probabilidad de que el número de personas ingresadas a una unidad de cuidados intensivos en un hospital particular, en un día particular, sea dos?\n",
        "*   **b).**¿Es probable que x exceda de 10? Explicar\n"
      ],
      "metadata": {
        "id": "Hhv_8WotEUDb"
      }
    },
    {
      "cell_type": "markdown",
      "source": [
        "###**Tipo de distribución:**\n",
        "Este problema es de tipo **Poisson**.\n",
        "\n",
        "¿Por qué?\n",
        "Porque describe el **número de eventos (personas ingresadas)** que ocurren en un **intervalo de tiempo fijo (un día)**, y esos eventos:\n",
        "*   Son independientes entre sí.\n",
        "*   Ocurren con una tasa promedio conocida (λ = 5).\n",
        "*   Se presentan de forma aleatoria.\n"
      ],
      "metadata": {
        "id": "4jwcavo7EZVx"
      }
    },
    {
      "cell_type": "code",
      "source": [
        "from scipy.stats import poisson\n",
        "\n",
        "# Media (lambda) de la distribución Poisson\n",
        "media = 5\n",
        "\n",
        "# a) Probabilidad de que ingresen exactamente 2 personas\n",
        "prob_2_personas = poisson.pmf(2, media)\n",
        "print(\"a) Probabilidad de que ingresen exactamente 2 personas:\", prob_2_personas)\n",
        "\n",
        "# b) ¿Es probable que x exceda de 10?\n",
        "# Calculamos P(X > 10) = 1 - P(X <= 10)\n",
        "prob_mas_10 = 1 - poisson.cdf(10, media)\n",
        "print(\"b) Probabilidad de que ingresen más de 10 personas:\", prob_mas_10)\n",
        "\n",
        "# Explicación simple para b)\n",
        "if prob_mas_10 < 0.05:\n",
        "    print(\"→ No es probable que ingresen más de 10 personas (menos del 5%)\")\n",
        "else:\n",
        "    print(\"→ Sí es probable que ingresen más de 10 personas (más del 5%)\")"
      ],
      "metadata": {
        "colab": {
          "base_uri": "https://localhost:8080/"
        },
        "id": "bIUy_pfNDvaw",
        "outputId": "dad90486-9696-46fb-e663-8e766826bb49"
      },
      "execution_count": 1,
      "outputs": [
        {
          "output_type": "stream",
          "name": "stdout",
          "text": [
            "a) Probabilidad de que ingresen exactamente 2 personas: 0.08422433748856832\n",
            "b) Probabilidad de que ingresen más de 10 personas: 0.013695268598382881\n",
            "→ No es probable que ingresen más de 10 personas (menos del 5%)\n"
          ]
        }
      ]
    },
    {
      "cell_type": "markdown",
      "source": [
        "## **Problema 2**\n",
        "**Antes de resolver el problema especifique si la solución es de tipo Binomial o Poisson y explique por qué.**\n",
        "\n",
        "Realizar un programa en Python que resuelva el siguiente problema:\n",
        "\n",
        "\n",
        "*   Un fabricantes de podadoras para el pasto compra motores de 1 hp y 2 ciclos, en lotes de 1,000, a un proveedor.\n",
        "*   El fabricante equipa cada una de las podadoras producidas por su planta con uno de los motores.\n",
        "*   La historia muestra que la probabilidad de que cualquier motor del proveedor resulte no satisfactorio es .001.\n",
        "*   **En un embarque de 1,000 motores, Calcular**\n",
        "*   **a).**¿Cuál es la probabilidad de que ninguno sea defectuoso?\n",
        "*   **b).**¿Cuál es la probabilidad de que tres sean defectuosos?\n",
        "*   **c).**¿Cuál es la probabilidad de que cuatro sean defectuosos?"
      ],
      "metadata": {
        "id": "2Y8rFv7hEdzu"
      }
    },
    {
      "cell_type": "markdown",
      "source": [
        "###**Tipo de distribución:**\n",
        "Este problema es de tipo **Binomial**.\n",
        "\n",
        "¿Por qué?\n",
        "*   Hay un número fijo de intentos: 1,000 motores.\n",
        "*   Cada motor tiene solo dos posibles resultados: defectuoso o no defectuoso.\n",
        "*   La probabilidad de que un motor sea defectuoso es constante: **p = 0.001**.\n",
        "*   Los eventos (motores) son **independientes**.\n"
      ],
      "metadata": {
        "id": "kR1nHg4fEiCk"
      }
    },
    {
      "cell_type": "code",
      "source": [
        "from scipy.stats import binom\n",
        "\n",
        "# Parámetros de la distribución binomial\n",
        "n = 1000        # Tamaño del lote\n",
        "p = 0.001       # Probabilidad de que un motor sea defectuoso\n",
        "\n",
        "# a) Probabilidad de que ninguno sea defectuoso\n",
        "prob_0 = binom.pmf(0, n, p)\n",
        "print(\"a) Probabilidad de que ninguno sea defectuoso:\", prob_0)\n",
        "\n",
        "# b) Probabilidad de que tres sean defectuosos\n",
        "prob_3 = binom.pmf(3, n, p)\n",
        "print(\"b) Probabilidad de que tres sean defectuosos:\", prob_3)\n",
        "\n",
        "# c) Probabilidad de que cuatro sean defectuosos\n",
        "prob_4 = binom.pmf(4, n, p)\n",
        "print(\"c) Probabilidad de que cuatro sean defectuosos:\", prob_4)\n"
      ],
      "metadata": {
        "colab": {
          "base_uri": "https://localhost:8080/"
        },
        "id": "GWUCtyfpD0hG",
        "outputId": "69088b9c-f7d8-409b-da32-0193a74d5525"
      },
      "execution_count": 2,
      "outputs": [
        {
          "output_type": "stream",
          "name": "stdout",
          "text": [
            "a) Probabilidad de que ninguno sea defectuoso: 0.3676954247709639\n",
            "b) Probabilidad de que tres sean defectuosos: 0.061282509389840666\n",
            "c) Probabilidad de que cuatro sean defectuosos: 0.015289955420838651\n"
          ]
        }
      ]
    }
  ]
}