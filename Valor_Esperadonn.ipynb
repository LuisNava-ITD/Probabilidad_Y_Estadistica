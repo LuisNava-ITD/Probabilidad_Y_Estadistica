{
  "nbformat": 4,
  "nbformat_minor": 0,
  "metadata": {
    "colab": {
      "provenance": [],
      "authorship_tag": "ABX9TyPEoNQLQ+gzeCQwREKiet4G",
      "include_colab_link": true
    },
    "kernelspec": {
      "name": "python3",
      "display_name": "Python 3"
    },
    "language_info": {
      "name": "python"
    }
  },
  "cells": [
    {
      "cell_type": "markdown",
      "metadata": {
        "id": "view-in-github",
        "colab_type": "text"
      },
      "source": [
        "<a href=\"https://colab.research.google.com/github/LuisNava-ITD/Probabilidad_Y_Estadistica/blob/main/Valor_Esperadonn.ipynb\" target=\"_parent\"><img src=\"https://colab.research.google.com/assets/colab-badge.svg\" alt=\"Open In Colab\"/></a>"
      ]
    },
    {
      "cell_type": "code",
      "execution_count": 1,
      "metadata": {
        "id": "mJ5NP2j7eR2u"
      },
      "outputs": [],
      "source": [
        "import numpy as np\n",
        "from scipy.stats import binom"
      ]
    },
    {
      "cell_type": "code",
      "source": [
        "\n",
        "# Posibles ganancias o pérdidas\n",
        "X = np.array([490000, -10000])\n",
        "\n",
        "# Probabilidades respectivas\n",
        "P = np.array([0.005, 0.995])\n",
        "\n",
        "# Cálculo del valor esperado\n",
        "valor_esperado = np.sum(X * P)\n",
        "\n",
        "print(f\"El valor esperado es: {valor_esperado} mil dólares\")"
      ],
      "metadata": {
        "colab": {
          "base_uri": "https://localhost:8080/"
        },
        "id": "Wh5IH7DqehDg",
        "outputId": "6677e285-9c1b-43dd-8357-59e625eee7fa"
      },
      "execution_count": 2,
      "outputs": [
        {
          "output_type": "stream",
          "name": "stdout",
          "text": [
            "El valor esperado es: -7500.0 mil dólares\n"
          ]
        }
      ]
    },
    {
      "cell_type": "code",
      "source": [
        "\n",
        "\n",
        "# Posibles costos del viaje\n",
        "X = np.array([5, 305])\n",
        "\n",
        "# Probabilidades respectivas\n",
        "P = np.array([0.95, 0.05])\n",
        "\n",
        "# Cálculo del valor esperado\n",
        "costo_esperado = np.sum(X * P)\n",
        "\n",
        "print(f\"El costo total esperado del viaje es: {costo_esperado} euros\")\n",
        "\n",
        "#El costo total esperado del viaje en tren de Alice es 20 euros.\n",
        "#Aunque el boleto costó solo 5 euros, el riesgo de la multa aumenta el costo promedio del viaje.\n",
        ""
      ],
      "metadata": {
        "colab": {
          "base_uri": "https://localhost:8080/"
        },
        "id": "lnKcm7x0erlM",
        "outputId": "ebd139aa-1e93-456b-8299-c06c3406a958"
      },
      "execution_count": 3,
      "outputs": [
        {
          "output_type": "stream",
          "name": "stdout",
          "text": [
            "El costo total esperado del viaje es: 20.0 euros\n"
          ]
        }
      ]
    },
    {
      "cell_type": "code",
      "source": [
        "\n",
        "# Posibles valores del dado\n",
        "valores = np.array([1, 2, 3, 4, 5, 6])\n",
        "\n",
        "# Probabilidades (todas iguales en un dado justo)\n",
        "probabilidades = np.full(6, 1/6)\n",
        "\n",
        "# Calculamos el valor esperado\n",
        "valor_esperado = np.sum(valores * probabilidades)\n",
        "\n",
        "# Mostramos el resultado\n",
        "print(\"El valor esperado del dado es:\", valor_esperado)"
      ],
      "metadata": {
        "colab": {
          "base_uri": "https://localhost:8080/"
        },
        "id": "woRKrDEeevb3",
        "outputId": "9f4ed926-121d-40b7-8248-021570828b6c"
      },
      "execution_count": 4,
      "outputs": [
        {
          "output_type": "stream",
          "name": "stdout",
          "text": [
            "El valor esperado del dado es: 3.5\n"
          ]
        }
      ]
    },
    {
      "cell_type": "code",
      "source": [
        "# 1. ¿El dado tiene más probabilidad de caer en 4 que en 6?\n",
        "print(\"¿El número 4 tiene más probabilidad que el 6?\", 1/6 > 1/6)  # Falso\n",
        "\n",
        "# 2. ¿3.5 es un resultado posible en un lanzamiento?\n",
        "print(\"¿3.5 puede ser un resultado?\", 3.5 in valores)  # Falso\n",
        "\n",
        "# 3. ¿El promedio de muchos lanzamientos se acerca a 3.5?\n",
        "simulaciones = np.random.choice(valores, size=100000)  # 100,000 lanzamientos\n",
        "promedio = np.mean(simulaciones)\n",
        "print(\"Promedio de muchos lanzamientos:\", promedio)  # Debe acercarse a 3.5"
      ],
      "metadata": {
        "colab": {
          "base_uri": "https://localhost:8080/"
        },
        "id": "MLN_4lk4e4G4",
        "outputId": "6dafada7-5788-4aa8-c07f-7d9d1fc60b57"
      },
      "execution_count": 5,
      "outputs": [
        {
          "output_type": "stream",
          "name": "stdout",
          "text": [
            "¿El número 4 tiene más probabilidad que el 6? False\n",
            "¿3.5 puede ser un resultado? False\n",
            "Promedio de muchos lanzamientos: 3.50385\n"
          ]
        }
      ]
    },
    {
      "cell_type": "code",
      "source": [
        "\n",
        "# Definimos los resultados posibles y sus probabilidades\n",
        "ganancia_dragones = 10\n",
        "perdida_tortugas = -11\n",
        "prob_ganar = 0.5\n",
        "prob_perder = 0.5\n",
        "\n",
        "# Calculamos el valor esperado\n",
        "valor_esperado = (ganancia_dragones * prob_ganar) + (perdida_tortugas * prob_perder)\n",
        "\n",
        "# Mostramos el resultado\n",
        "print(\"El valor esperado de la apuesta es:\", valor_esperado, \"Dólares\")"
      ],
      "metadata": {
        "colab": {
          "base_uri": "https://localhost:8080/"
        },
        "id": "inGG7-EGe9pj",
        "outputId": "3eaacde1-5c3f-4af3-a648-2b6a2f3a3377"
      },
      "execution_count": 6,
      "outputs": [
        {
          "output_type": "stream",
          "name": "stdout",
          "text": [
            "El valor esperado de la apuesta es: -0.5 Dólares\n"
          ]
        }
      ]
    }
  ]
}