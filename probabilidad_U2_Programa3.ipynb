{
  "nbformat": 4,
  "nbformat_minor": 0,
  "metadata": {
    "colab": {
      "provenance": [],
      "authorship_tag": "ABX9TyNdhEC7A1kXX/2AFfaqCFyL",
      "include_colab_link": true
    },
    "kernelspec": {
      "name": "python3",
      "display_name": "Python 3"
    },
    "language_info": {
      "name": "python"
    }
  },
  "cells": [
    {
      "cell_type": "markdown",
      "metadata": {
        "id": "view-in-github",
        "colab_type": "text"
      },
      "source": [
        "<a href=\"https://colab.research.google.com/github/LuisNava-ITD/Probabilidad_Y_Estadistica/blob/main/probabilidad_U2_Programa3.ipynb\" target=\"_parent\"><img src=\"https://colab.research.google.com/assets/colab-badge.svg\" alt=\"Open In Colab\"/></a>"
      ]
    },
    {
      "cell_type": "markdown",
      "source": [
        "#Probabilida y Estadistica/ Unidad2\n",
        "\n",
        "##Alumno:\n",
        "###Luis Eduardo Nava Estupiñan\n",
        "##Docente:\n",
        "###Jose Gabriel Rodriguez Rivas"
      ],
      "metadata": {
        "id": "4toMfusBm5CF"
      }
    },
    {
      "cell_type": "code",
      "execution_count": 8,
      "metadata": {
        "colab": {
          "base_uri": "https://localhost:8080/"
        },
        "id": "VsLybIDRF6Al",
        "outputId": "72a15b8c-bc2c-41e8-dbd0-c0873eb7b28a"
      },
      "outputs": [
        {
          "output_type": "stream",
          "name": "stdout",
          "text": [
            "Las posibilades que puede tener el profesor de calculo son: \n",
            " 5040.0\n"
          ]
        }
      ],
      "source": [
        "import math as mt\n",
        "from itertools import permutations\n",
        "from itertools import product\n",
        "import numpy as np\n",
        "\n",
        "asis = mt.factorial(10)\n",
        "preg =mt.factorial(10-4)\n",
        "\n",
        "posibilidades = asis/preg\n",
        "print(\"Las posibilades que puede tener el profesor de calculo son: \\n\", posibilidades)"
      ]
    }
  ]
}